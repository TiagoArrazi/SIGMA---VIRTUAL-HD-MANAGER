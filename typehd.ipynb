{
 "cells": [
  {
   "cell_type": "code",
   "execution_count": 1,
   "metadata": {},
   "outputs": [],
   "source": [
    "d = {'file1': 'this is the content for file1', 'file2': 'this is the content for file2'}"
   ]
  },
  {
   "cell_type": "code",
   "execution_count": 2,
   "metadata": {},
   "outputs": [
    {
     "name": "stdout",
     "output_type": "stream",
     "text": [
      "['{', \"'\", 'f', 'i', 'l', 'e', '1', \"'\", ':', ' ', \"'\", 't', 'h', 'i', 's', ' ', 'i', 's', ' ', 't', 'h', 'e', ' ', 'c', 'o', 'n', 't', 'e', 'n', 't', ' ', 'f', 'o', 'r', ' ', 'f', 'i', 'l', 'e', '1', \"'\", ',', ' ', \"'\", 'f', 'i', 'l', 'e', '2', \"'\", ':', ' ', \"'\", 't', 'h', 'i', 's', ' ', 'i', 's', ' ', 't', 'h', 'e', ' ', 'c', 'o', 'n', 't', 'e', 'n', 't', ' ', 'f', 'o', 'r', ' ', 'f', 'i', 'l', 'e', '2', \"'\", '}']\n"
     ]
    }
   ],
   "source": [
    "ld = []\n",
    "\n",
    "for element in str(d):\n",
    "    ld.append(element)\n",
    "    \n",
    "print(ld)"
   ]
  },
  {
   "cell_type": "code",
   "execution_count": 3,
   "metadata": {},
   "outputs": [],
   "source": [
    "_bytes = 32\n",
    "\n",
    "def divide_chunks(l, n): \n",
    "    \n",
    "    for i in range(0, len(l), n):  \n",
    "        yield l[i:i + n]\n",
    "        \n",
    "splitted_list = list(divide_chunks(ld, _bytes))\n",
    "\n",
    "from binascii import hexlify\n",
    "\n",
    "byte_list = []\n",
    "_hex = []\n",
    "\n",
    "for element in splitted_list[0]:\n",
    "    byte_list.append(bytes(element, encoding='utf-8'))    "
   ]
  },
  {
   "cell_type": "code",
   "execution_count": 6,
   "metadata": {},
   "outputs": [
    {
     "name": "stdout",
     "output_type": "stream",
     "text": [
      "BLOCK 0   {  '  f  i  l  e  1  '  :     '  t  h  i  s     i  s     t  h  e     c  o  n  t  e  n  t     f\n",
      "       b'7b 27 66 69 6c 65 31 27 3a 20 27 74 68 69 73 20 69 73 20 74 68 65 20 63 6f 6e 74 65 6e 74 20 66'\n",
      "\n",
      "BLOCK 1   o  r     f  i  l  e  1  '  ,     '  f  i  l  e  2  '  :     '  t  h  i  s     i  s     t  h  e\n",
      "       b'6f 72 20 66 69 6c 65 31 27 2c 20 27 66 69 6c 65 32 27 3a 20 27 74 68 69 73 20 69 73 20 74 68 65'\n",
      "\n",
      "BLOCK 2      c  o  n  t  e  n  t     f  o  r     f  i  l  e  2  '  }\n",
      "       b'20 63 6f 6e 74 65 6e 74 20 66 6f 72 20 66 69 6c 65 32 27 7d'\n",
      "\n"
     ]
    }
   ],
   "source": [
    "i = 0\n",
    "\n",
    "for l in splitted_list:\n",
    "    print(f\"BLOCK {i}   {'  '.join(l)}\")\n",
    "    print(f\"       {b' '.join([hexlify(bytes(element, encoding='utf-8')) for element in l])}\")\n",
    "    i+=1\n",
    "    input()"
   ]
  }
 ],
 "metadata": {
  "kernelspec": {
   "display_name": "Python 3",
   "language": "python",
   "name": "python3"
  },
  "language_info": {
   "codemirror_mode": {
    "name": "ipython",
    "version": 3
   },
   "file_extension": ".py",
   "mimetype": "text/x-python",
   "name": "python",
   "nbconvert_exporter": "python",
   "pygments_lexer": "ipython3",
   "version": "3.6.5"
  }
 },
 "nbformat": 4,
 "nbformat_minor": 2
}
