{
 "cells": [
  {
   "cell_type": "code",
   "execution_count": 63,
   "metadata": {},
   "outputs": [],
   "source": [
    "def copy(src_path, dest_path, structure):\n",
    "    \n",
    "    src_path_list = src_path.split('/')[1:]\n",
    "    dest_path_list = dest_path.split('/')[1:]\n",
    "    \n",
    "    src_path_in_structure = ''.join([f\"[\\'{_dir}\\']\" for _dir in src_path_list])\n",
    "    dest_path_in_structure = ''.join([f\"[\\'{_dir}\\']\" for _dir in dest_path_list])\n",
    "\n",
    "    eval(f\"structure{dest_path_in_structure}\")[src_path_list[-1]] = eval(f\"structure{src_path_in_structure}\")"
   ]
  },
  {
   "cell_type": "code",
   "execution_count": 97,
   "metadata": {},
   "outputs": [
    {
     "name": "stdout",
     "output_type": "stream",
     "text": [
      "{'f': 'abcd', 'dir': {}, 'dir2': {'dir3': {'f': 'abcd'}}}\n"
     ]
    }
   ],
   "source": [
    "d1 = {'f':'abcd', 'dir':{}, 'dir2': {'dir3': {}}}\n",
    "copy('/f', '/dir2/dir3', d1)\n",
    "print(d1)"
   ]
  },
  {
   "cell_type": "code",
   "execution_count": 88,
   "metadata": {},
   "outputs": [],
   "source": [
    "def move(src_path, dest_path, structure):\n",
    "    \n",
    "    src_path_list = src_path.split('/')[1:]\n",
    "    dest_path_list = dest_path.split('/')[1:]\n",
    "    to_be_popped = src_path_list[-1]\n",
    "    path_to_be_popped_list = src_path_list[:-1]\n",
    "    \n",
    "    src_path_in_structure = ''.join([f\"[\\'{_dir}\\']\" for _dir in src_path_list])\n",
    "    dest_path_in_structure = ''.join([f\"[\\'{_dir}\\']\" for _dir in dest_path_list])\n",
    "    path_to_be_popped_in_structure = ''.join([f\"[\\'{_dir}\\']\" for _dir in path_to_be_popped_list])\n",
    "    \n",
    "    eval(f\"structure{dest_path_in_structure}\")[to_be_popped] = eval(f\"structure{src_path_in_structure}\")\n",
    "    eval(f\"structure{path_to_be_popped_in_structure}\").pop(to_be_popped)"
   ]
  },
  {
   "cell_type": "code",
   "execution_count": 96,
   "metadata": {},
   "outputs": [
    {
     "name": "stdout",
     "output_type": "stream",
     "text": [
      "{'dir': {'f': 'abcd'}, 'dir2': {'dir3': {}}}\n"
     ]
    }
   ],
   "source": [
    "d2 = {'f':'abcd', 'dir':{}, 'dir2': {'dir3': {}}}\n",
    "move('/f', '/dir', d2)\n",
    "print(d2)"
   ]
  },
  {
   "cell_type": "code",
   "execution_count": null,
   "metadata": {},
   "outputs": [],
   "source": [
    "def rmdir(dir_path):\n",
    "    \n",
    "    del eval(f'structure{path_in_structure}')[dir_path]"
   ]
  },
  {
   "cell_type": "code",
   "execution_count": 98,
   "metadata": {},
   "outputs": [],
   "source": [
    "def renamedir(directory, new_name, structure):\n",
    "    \n",
    "#     structure[new_name] = structure.pop(directory)\n",
    "    eval(f'structure{path_in_structure}')[new_name] = structure.pop(directory)\n",
    "    "
   ]
  },
  {
   "cell_type": "code",
   "execution_count": 99,
   "metadata": {},
   "outputs": [
    {
     "name": "stdout",
     "output_type": "stream",
     "text": [
      "{'f1': 'abcd', 'dir_1': {'f2': 'fghi'}}\n"
     ]
    }
   ],
   "source": [
    "d3 = {'f1': 'abcd', 'dir1': {'f2': 'fghi', 'dir2': {'f3': 'jklm'}}}\n",
    "renamedir('dir1', 'dir_1', d3)\n",
    "print(d3)"
   ]
  },
  {
   "cell_type": "code",
   "execution_count": 95,
   "metadata": {},
   "outputs": [
    {
     "name": "stdout",
     "output_type": "stream",
     "text": [
      "{'2': 'a'}\n"
     ]
    }
   ],
   "source": [
    "d_test = {'1': 'a'}\n",
    "d_test['2'] = d_test.pop('1')\n",
    "\n",
    "print(d_test)"
   ]
  }
 ],
 "metadata": {
  "kernelspec": {
   "display_name": "Python 3",
   "language": "python",
   "name": "python3"
  },
  "language_info": {
   "codemirror_mode": {
    "name": "ipython",
    "version": 3
   },
   "file_extension": ".py",
   "mimetype": "text/x-python",
   "name": "python",
   "nbconvert_exporter": "python",
   "pygments_lexer": "ipython3",
   "version": "3.6.5"
  }
 },
 "nbformat": 4,
 "nbformat_minor": 2
}
