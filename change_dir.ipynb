{
 "cells": [
  {
   "cell_type": "code",
   "execution_count": 125,
   "metadata": {},
   "outputs": [],
   "source": [
    "import re\n",
    "\n",
    "path_in_structure = \"\"\n",
    "str_path = \"/\"\n",
    "path_list = []\n",
    "\n",
    "def pop_from_str_path(path):\n",
    "    \n",
    "    str_path_list = path.split('/')\n",
    "    str_path_list.pop(-1)\n",
    "    path = '/'.join(str_path_list)\n",
    "    \n",
    "    if path == '':\n",
    "        return '/'\n",
    "    \n",
    "    return path\n",
    "\n",
    "\n",
    "def from_path_in_structure_to_path_list(path):  \n",
    "\n",
    "    filtered_path_in_structure = re.sub('\\[', ' ', path)\n",
    "    filtered_path_in_structure = re.sub('\\]', ' ', filtered_path_in_structure)\n",
    "    new_path_list = filtered_path_in_structure.split()\n",
    "    \n",
    "    return new_path_list\n",
    "\n",
    "    \n",
    "def change_dir(my_path):\n",
    "\n",
    "    global path_in_structure\n",
    "    global str_path\n",
    "    global path_list\n",
    "\n",
    "    if len(path_in_structure) != 0: \n",
    "        if my_path == '..':\n",
    "            path_list = from_path_in_structure_to_path_list(path_in_structure)\n",
    "            path_list.pop(-1)\n",
    "            str_path = pop_from_str_path(str_path)\n",
    "            \n",
    "        else:\n",
    "            path_list.append(my_path)\n",
    "            str_path += '/' + my_path    \n",
    "            \n",
    "    else:\n",
    "        path_list = my_path.split('/')\n",
    "        str_path += my_path\n",
    "\n",
    "    path_in_structure = \"\"\n",
    "    \n",
    "    for element in path_list:\n",
    "        path_in_structure += f'[\\'{element}\\']'\n",
    "        \n",
    "    path_in_structure = re.sub('\\[\\'\\'', '[\\'', re.sub('\\'\\'\\]', '\\']', path_in_structure))\n",
    "    \n",
    "    if my_path == '':\n",
    "        path_list = []\n",
    "        path_in_structure = \"\"\n",
    "        str_path = \"/\"\n",
    "    \n",
    "    print(path_in_structure)\n",
    "    print(str_path)\n",
    "    print('\\n')\n",
    "    "
   ]
  },
  {
   "cell_type": "code",
   "execution_count": 126,
   "metadata": {
    "scrolled": true
   },
   "outputs": [
    {
     "name": "stdout",
     "output_type": "stream",
     "text": [
      "\n",
      "/\n",
      "\n",
      "\n",
      "['dir1']\n",
      "/dir1\n",
      "\n",
      "\n",
      "['dir1']['dir2']\n",
      "/dir1/dir2\n",
      "\n",
      "\n",
      "['dir1']['dir2']['dir3']\n",
      "/dir1/dir2/dir3\n",
      "\n",
      "\n",
      "['dir1']['dir2']\n",
      "/dir1/dir2\n",
      "\n",
      "\n",
      "['dir1']['dir2']['dir3']\n",
      "/dir1/dir2/dir3\n",
      "\n",
      "\n",
      "\n",
      "/\n",
      "\n",
      "\n"
     ]
    }
   ],
   "source": [
    "change_dir('')\n",
    "change_dir('dir1')\n",
    "change_dir('dir2')\n",
    "change_dir('dir3')\n",
    "change_dir('..')\n",
    "change_dir('dir3')\n",
    "change_dir('')"
   ]
  }
 ],
 "metadata": {
  "kernelspec": {
   "display_name": "Python 3",
   "language": "python",
   "name": "python3"
  },
  "language_info": {
   "codemirror_mode": {
    "name": "ipython",
    "version": 3
   },
   "file_extension": ".py",
   "mimetype": "text/x-python",
   "name": "python",
   "nbconvert_exporter": "python",
   "pygments_lexer": "ipython3",
   "version": "3.6.5"
  }
 },
 "nbformat": 4,
 "nbformat_minor": 2
}
